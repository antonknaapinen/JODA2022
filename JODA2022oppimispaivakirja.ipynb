{
 "cells": [
  {
   "cell_type": "markdown",
   "id": "f5af7056-9fd9-4079-b9ba-82bec3ec169d",
   "metadata": {},
   "source": [
    "# Johdanto datatieteeseen 2022\n",
    "## Oppimispäiväkirja - Anton Knaapinen"
   ]
  },
  {
   "cell_type": "markdown",
   "id": "c024e8c4-d0dc-441e-bae6-3823a2c302d9",
   "metadata": {},
   "source": [
    "### Viikko 1"
   ]
  },
  {
   "cell_type": "markdown",
   "id": "b4aea597-5f3f-4f44-97d9-244503301b4b",
   "metadata": {},
   "source": [
    "### Viikko 2\n",
    "### Viikko 3\n",
    "### Viikko 4\n",
    "### Viikko 5"
   ]
  },
  {
   "cell_type": "code",
   "execution_count": null,
   "id": "bc418770-35c4-484a-99c4-60fce06f2840",
   "metadata": {},
   "outputs": [],
   "source": []
  }
 ],
 "metadata": {
  "kernelspec": {
   "display_name": "Python 3 (ipykernel)",
   "language": "python",
   "name": "python3"
  },
  "language_info": {
   "codemirror_mode": {
    "name": "ipython",
    "version": 3
   },
   "file_extension": ".py",
   "mimetype": "text/x-python",
   "name": "python",
   "nbconvert_exporter": "python",
   "pygments_lexer": "ipython3",
   "version": "3.8.2"
  }
 },
 "nbformat": 4,
 "nbformat_minor": 5
}
